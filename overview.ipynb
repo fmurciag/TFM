{
 "cells": [
  {
   "cell_type": "code",
   "execution_count": 5,
   "metadata": {},
   "outputs": [],
   "source": [
    "import matplotlib.pyplot as plt\n",
    "import numpy as np\n",
    "from keras import preprocessing\n",
    "\n",
    "import os\n",
    "import matplotlib.image as mpimg\n"
   ]
  },
  {
   "cell_type": "code",
   "execution_count": null,
   "metadata": {},
   "outputs": [],
   "source": [
    "# Ruta al dataset\n",
    "dataset_dir = 'ruta/a/tu/dataset'\n",
    "\n",
    "# Obtenemos la lista de carpetas (clases)\n",
    "clases = [d for d in os.listdir(dataset_dir) if os.path.isdir(os.path.join(dataset_dir, d))]\n",
    "\n",
    "# Creamos una matriz de visualización\n",
    "fig, axs = plt.subplots(1, len(clases), figsize=(15, 15))"
   ]
  },
  {
   "cell_type": "code",
   "execution_count": null,
   "metadata": {},
   "outputs": [],
   "source": [
    "# import os\n",
    "# from PIL import Image\n",
    "\n",
    "# # Ruta al dataset donde están las imágenes\n",
    "# input_dir = 'ruta/a/tus/imagenes'\n",
    "# output_dir = 'ruta/a/convertidas'\n",
    "\n",
    "# # Crear el directorio de salida si no existe\n",
    "# os.makedirs(output_dir, exist_ok=True)\n",
    "\n",
    "# # Función para convertir solo archivos de imagen a formato JPEG\n",
    "# def convert_images_to_jpeg(input_dir, output_dir):\n",
    "#     for subdir, dirs, files in os.walk(input_dir):\n",
    "#         for file in files:\n",
    "#             file_path = os.path.join(subdir, file)\n",
    "#             try:\n",
    "#                 # Abrir la imagen para verificar si es un archivo válido\n",
    "#                 img = Image.open(file_path)\n",
    "                \n",
    "#                 # Convertir a formato RGB para asegurar la compatibilidad con JPEG\n",
    "#                 img = img.convert('RGB')\n",
    "                \n",
    "#                 # Guardar como JPEG en el directorio de salida\n",
    "#                 output_path = os.path.join(output_dir, f\"{os.path.splitext(file)[0]}.jpeg\")\n",
    "#                 img.save(output_path, 'JPEG')\n",
    "#                 print(f\"Convertido: {file_path} a {output_path}\")\n",
    "#             except (IOError, SyntaxError) as e:\n",
    "#                 # Se captura IOError o SyntaxError para ignorar archivos que no son imágenes\n",
    "#                 print(f\"Archivo no válido (no imagen): {file_path}\")\n",
    "\n",
    "# # Llamada a la función para convertir las imágenes\n",
    "# convert_images_to_jpeg(input_dir, output_dir)\n"
   ]
  },
  {
   "cell_type": "code",
   "execution_count": 4,
   "metadata": {},
   "outputs": [
    {
     "name": "stdout",
     "output_type": "stream",
     "text": [
      "Found 0 files belonging to 62 classes.\n"
     ]
    },
    {
     "ename": "ValueError",
     "evalue": "No images found in directory data\\BelgiumTS\\BelgiumTSC_Training\\Training. Allowed formats: ('.bmp', '.gif', '.jpeg', '.jpg', '.png')",
     "output_type": "error",
     "traceback": [
      "\u001b[1;31m---------------------------------------------------------------------------\u001b[0m",
      "\u001b[1;31mValueError\u001b[0m                                Traceback (most recent call last)",
      "Cell \u001b[1;32mIn[4], line 1\u001b[0m\n\u001b[1;32m----> 1\u001b[0m dataset \u001b[39m=\u001b[39m preprocessing\u001b[39m.\u001b[39;49mimage_dataset_from_directory(\n\u001b[0;32m      2\u001b[0m     \u001b[39m'\u001b[39;49m\u001b[39mdata\u001b[39;49m\u001b[39m\\\u001b[39;49m\u001b[39mBelgiumTS\u001b[39;49m\u001b[39m\\\u001b[39;49m\u001b[39mBelgiumTSC_Training\u001b[39;49m\u001b[39m\\\u001b[39;49m\u001b[39mTraining\u001b[39;49m\u001b[39m'\u001b[39;49m,  \u001b[39m# Cambia esto por la ruta a tu dataset principal\u001b[39;49;00m\n\u001b[0;32m      3\u001b[0m     image_size\u001b[39m=\u001b[39;49m(\u001b[39m128\u001b[39;49m, \u001b[39m128\u001b[39;49m),   \u001b[39m# Cambia a la resolución deseada\u001b[39;49;00m\n\u001b[0;32m      4\u001b[0m     batch_size\u001b[39m=\u001b[39;49m\u001b[39m32\u001b[39;49m,\n\u001b[0;32m      5\u001b[0m     label_mode\u001b[39m=\u001b[39;49m\u001b[39m'\u001b[39;49m\u001b[39mint\u001b[39;49m\u001b[39m'\u001b[39;49m,        \u001b[39m# Las etiquetas como enteros\u001b[39;49;00m\n\u001b[0;32m      6\u001b[0m     shuffle\u001b[39m=\u001b[39;49m\u001b[39mTrue\u001b[39;49;00m\n\u001b[0;32m      7\u001b[0m )\n",
      "File \u001b[1;32mc:\\Users\\Usuario\\anaconda3\\envs\\TFM\\lib\\site-packages\\keras\\src\\utils\\image_dataset_utils.py:329\u001b[0m, in \u001b[0;36mimage_dataset_from_directory\u001b[1;34m(directory, labels, label_mode, class_names, color_mode, batch_size, image_size, shuffle, seed, validation_split, subset, interpolation, follow_links, crop_to_aspect_ratio, pad_to_aspect_ratio, data_format, verbose)\u001b[0m\n\u001b[0;32m    325\u001b[0m image_paths, labels \u001b[39m=\u001b[39m dataset_utils\u001b[39m.\u001b[39mget_training_or_validation_split(\n\u001b[0;32m    326\u001b[0m     image_paths, labels, validation_split, subset\n\u001b[0;32m    327\u001b[0m )\n\u001b[0;32m    328\u001b[0m \u001b[39mif\u001b[39;00m \u001b[39mnot\u001b[39;00m image_paths:\n\u001b[1;32m--> 329\u001b[0m     \u001b[39mraise\u001b[39;00m \u001b[39mValueError\u001b[39;00m(\n\u001b[0;32m    330\u001b[0m         \u001b[39mf\u001b[39m\u001b[39m\"\u001b[39m\u001b[39mNo images found in directory \u001b[39m\u001b[39m{\u001b[39;00mdirectory\u001b[39m}\u001b[39;00m\u001b[39m. \u001b[39m\u001b[39m\"\u001b[39m\n\u001b[0;32m    331\u001b[0m         \u001b[39mf\u001b[39m\u001b[39m\"\u001b[39m\u001b[39mAllowed formats: \u001b[39m\u001b[39m{\u001b[39;00mALLOWLIST_FORMATS\u001b[39m}\u001b[39;00m\u001b[39m\"\u001b[39m\n\u001b[0;32m    332\u001b[0m     )\n\u001b[0;32m    334\u001b[0m dataset \u001b[39m=\u001b[39m paths_and_labels_to_dataset(\n\u001b[0;32m    335\u001b[0m     image_paths\u001b[39m=\u001b[39mimage_paths,\n\u001b[0;32m    336\u001b[0m     image_size\u001b[39m=\u001b[39mimage_size,\n\u001b[1;32m   (...)\u001b[0m\n\u001b[0;32m    347\u001b[0m     seed\u001b[39m=\u001b[39mseed,\n\u001b[0;32m    348\u001b[0m )\n\u001b[0;32m    350\u001b[0m \u001b[39mif\u001b[39;00m batch_size \u001b[39mis\u001b[39;00m \u001b[39mnot\u001b[39;00m \u001b[39mNone\u001b[39;00m:\n",
      "\u001b[1;31mValueError\u001b[0m: No images found in directory data\\BelgiumTS\\BelgiumTSC_Training\\Training. Allowed formats: ('.bmp', '.gif', '.jpeg', '.jpg', '.png')"
     ]
    }
   ],
   "source": [
    "# dataset = preprocessing.image_dataset_from_directory(\n",
    "#     'data\\BelgiumTS\\BelgiumTSC_Training\\Training',  # Cambia esto por la ruta a tu dataset principal\n",
    "#     image_size=(128, 128),   # Cambia a la resolución deseada\n",
    "#     batch_size=32,\n",
    "#     label_mode='int',        # Las etiquetas como enteros\n",
    "#     shuffle=True\n",
    "# )\n"
   ]
  }
 ],
 "metadata": {
  "kernelspec": {
   "display_name": "Python 3.10.15 ('TFM')",
   "language": "python",
   "name": "python3"
  },
  "language_info": {
   "codemirror_mode": {
    "name": "ipython",
    "version": 3
   },
   "file_extension": ".py",
   "mimetype": "text/x-python",
   "name": "python",
   "nbconvert_exporter": "python",
   "pygments_lexer": "ipython3",
   "version": "3.10.15"
  },
  "orig_nbformat": 4,
  "vscode": {
   "interpreter": {
    "hash": "34e7781bd1d18d672426f122a83ea8657514bf703c88b131b6b67665d9091d29"
   }
  }
 },
 "nbformat": 4,
 "nbformat_minor": 2
}
